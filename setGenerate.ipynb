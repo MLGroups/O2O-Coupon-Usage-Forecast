{
 "cells": [
  {
   "cell_type": "code",
   "execution_count": 1,
   "metadata": {
    "collapsed": true
   },
   "outputs": [],
   "source": [
    "import pandas as pd\n",
    "import numpy as np\n",
    "from datetime import date"
   ]
  },
  {
   "cell_type": "code",
   "execution_count": 5,
   "metadata": {},
   "outputs": [],
   "source": [
    "# handle dataset3\n",
    "\n",
    "# coupon related feature\n",
    "coupon3 = pd.read_csv('data/coupon3_feature.csv')\n",
    "\n",
    "# merchant related feature\n",
    "merchant3 = pd.read_csv('data/merchant3_feature.csv')\n",
    "\n",
    "# user related feature\n",
    "user3 = pd.read_csv('data/user3_feature.csv')\n",
    "\n",
    "# user_merchant related feature\n",
    "user_merchant3 = pd.read_csv('data/user_merchant3.csv')\n",
    "\n",
    "# other feature\n",
    "other_feature3 = pd.read_csv('data/other_feature3.csv')\n",
    "\n",
    "# online feature\n",
    "online_feature3 = pd.read_csv('data/online_feature3.csv')\n"
   ]
  },
  {
   "cell_type": "code",
   "execution_count": 25,
   "metadata": {},
   "outputs": [],
   "source": [
    "dataset3 = pd.merge(coupon3,merchant3,on='merchant_id',how='left')\n",
    "dataset3 = pd.merge(dataset3,user3,on='user_id',how='left')\n",
    "dataset3 = pd.merge(dataset3,user_merchant3,on=['user_id','merchant_id'],how='left')\n",
    "dataset3 = pd.merge(dataset3,other_feature3,on=['user_id','coupon_id','date_received'],how='left')\n",
    "dataset3 = pd.merge(dataset3,online_feature3,on='user_id',how='left')\n",
    "dataset3.drop_duplicates(inplace=True)\n"
   ]
  },
  {
   "cell_type": "code",
   "execution_count": 27,
   "metadata": {},
   "outputs": [
    {
     "name": "stdout",
     "output_type": "stream",
     "text": [
      "train-dataset3 (124056, 50)\n"
     ]
    }
   ],
   "source": [
    "dataset3.user_merchant_buy_total = dataset3.user_merchant_buy_total.replace(np.nan,0)\n",
    "dataset3.user_merchant_any = dataset3.user_merchant_any.replace(np.nan,0)\n",
    "dataset3.user_merchant_received = dataset3.user_merchant_received.replace(np.nan,0)\n",
    "# dataset3['is_weekend'] = dataset3.day_of_week.apply(lambda x:1 if x in (6,7) else 0)\n",
    "# weekday_dummies = pd.get_dummies(dataset3.day_of_week)\n",
    "# weekday_dummies.columns = ['weekday'+str(i+1) for i in range(weekday_dummies.shape[1])]\n",
    "# dataset3 = pd.concat([dataset3,weekday_dummies],axis=1)\n",
    "dataset3.drop(['merchant_id','coupon_count'], axis=1, inplace=True)\n",
    "dataset3 = dataset3.replace('null', np.nan)\n",
    "print('train-dataset3',dataset3.shape)\n",
    "dataset3.to_csv('data/dataset3.csv',index=None)"
   ]
  },
  {
   "cell_type": "code",
   "execution_count": 22,
   "metadata": {
    "collapsed": true
   },
   "outputs": [],
   "source": [
    "def get_label(s):\n",
    "    s = s.split(':')\n",
    "    if s[0]=='nan':\n",
    "        return 0\n",
    "    elif (date(int(s[0][0:4]),int(s[0][4:6]),int(s[0][6:8]))-date(int(s[1][0:4]),int(s[1][4:6]),int(s[1][6:8]))).days<=15:\n",
    "        return 1\n",
    "    else:\n",
    "        return -1"
   ]
  },
  {
   "cell_type": "code",
   "execution_count": 30,
   "metadata": {},
   "outputs": [
    {
     "name": "stdout",
     "output_type": "stream",
     "text": [
      "train-dataset2 (274823, 53)\n"
     ]
    }
   ],
   "source": [
    "\n",
    "coupon2 = pd.read_csv('data/coupon2_feature.csv')\n",
    "merchant2 = pd.read_csv('data/merchant2_feature.csv')\n",
    "user2 = pd.read_csv('data/user2_feature.csv')\n",
    "user_merchant2 = pd.read_csv('data/user_merchant2.csv')\n",
    "other_feature2 = pd.read_csv('data/other_feature2.csv')\n",
    "online_feature2 = pd.read_csv('data/online_feature2.csv')\n",
    "dataset2 = pd.merge(coupon2,merchant2,on='merchant_id',how='left')\n",
    "dataset2 = pd.merge(dataset2,user2,on='user_id',how='left')\n",
    "dataset2 = pd.merge(dataset2,user_merchant2,on=['user_id','merchant_id'],how='left')\n",
    "dataset2 = pd.merge(dataset2,other_feature2,on=['user_id','coupon_id','date_received'],how='left')\n",
    "dataset2 = pd.merge(dataset2,online_feature2,on='user_id',how='left')\n",
    "dataset2.drop_duplicates(inplace=True)\n",
    "\n",
    "dataset2.user_merchant_buy_total = dataset2.user_merchant_buy_total.replace(np.nan,0)\n",
    "dataset2.user_merchant_any = dataset2.user_merchant_any.replace(np.nan,0)\n",
    "dataset2.user_merchant_received = dataset2.user_merchant_received.replace(np.nan,0)\n",
    "# dataset2['is_weekend'] = dataset2.day_of_week.apply(lambda x:1 if x in (6,7) else 0)\n",
    "# weekday_dummies = pd.get_dummies(dataset2.day_of_week)\n",
    "# weekday_dummies.columns = ['weekday'+str(i+1) for i in range(weekday_dummies.shape[1])]\n",
    "# dataset2 = pd.concat([dataset2,weekday_dummies],axis=1)\n",
    "dataset2['label'] = dataset2.date.astype('str') + ':' +  dataset2.date_received.astype('str')\n",
    "dataset2.label = dataset2.label.apply(get_label)\n",
    "dataset2.drop(['merchant_id','date','date_received'],axis=1,inplace=True)\n",
    "dataset2 = dataset2.replace('null',np.nan)\n",
    "print('train-dataset2',dataset2.shape)\n",
    "dataset2.to_csv('data/dataset2.csv',index=None)\n"
   ]
  },
  {
   "cell_type": "code",
   "execution_count": 33,
   "metadata": {},
   "outputs": [
    {
     "name": "stdout",
     "output_type": "stream",
     "text": [
      "train-dataset1 (142203, 51)\n"
     ]
    }
   ],
   "source": [
    "coupon1 = pd.read_csv('data/coupon1_feature.csv')\n",
    "merchant1 = pd.read_csv('data/merchant1_feature.csv')\n",
    "user1 = pd.read_csv('data/user1_feature.csv')\n",
    "user_merchant1 = pd.read_csv('data/user_merchant1.csv')\n",
    "other_feature1 = pd.read_csv('data/other_feature1.csv')\n",
    "online_feature1 = pd.read_csv('data/online_feature1.csv')\n",
    "dataset1 = pd.merge(coupon1,merchant1,on='merchant_id',how='left')\n",
    "dataset1 = pd.merge(dataset1,user1,on='user_id',how='left')\n",
    "dataset1 = pd.merge(dataset1,user_merchant1,on=['user_id','merchant_id'],how='left')\n",
    "dataset1 = pd.merge(dataset1,other_feature1,on=['user_id','coupon_id','date_received'],how='left')\n",
    "dataset1 = pd.merge(dataset1,online_feature1,on='user_id',how='left')\n",
    "dataset1.drop_duplicates(inplace=True)\n",
    "\n",
    "dataset1.user_merchant_buy_total = dataset1.user_merchant_buy_total.replace(np.nan,0)\n",
    "dataset1.user_merchant_any = dataset1.user_merchant_any.replace(np.nan,0)\n",
    "dataset1.user_merchant_received = dataset1.user_merchant_received.replace(np.nan,0)\n",
    "# dataset1['is_weekend'] = dataset1.day_of_week.apply(lambda x:1 if x in (6,7) else 0)\n",
    "# weekday_dummies = pd.get_dummies(dataset1.day_of_week)\n",
    "# weekday_dummies.columns = ['weekday'+str(i+1) for i in range(weekday_dummies.shape[1])]\n",
    "# dataset1 = pd.concat([dataset1,weekday_dummies],axis=1)\n",
    "dataset1['label'] = dataset1.date.astype('str') + ':' +  dataset1.date_received.astype('str')\n",
    "dataset1.label = dataset1.label.apply(get_label)\n",
    "dataset1.drop(['merchant_id','day_of_week','date','date_received','coupon_id'],axis=1,inplace=True)\n",
    "dataset1 = dataset1.replace('null',np.nan)\n",
    "print('train-dataset1',dataset1.shape)\n",
    "dataset1.to_csv('data/dataset1.csv',index=None)"
   ]
  },
  {
   "cell_type": "code",
   "execution_count": 35,
   "metadata": {},
   "outputs": [
    {
     "name": "stdout",
     "output_type": "stream",
     "text": [
      "train-dataset0 (127221, 51)\n"
     ]
    }
   ],
   "source": [
    "coupon0 = pd.read_csv('data/coupon0_feature.csv')\n",
    "merchant0 = pd.read_csv('data/merchant0_feature.csv')\n",
    "user0 = pd.read_csv('data/user0_feature.csv')\n",
    "user_merchant0 = pd.read_csv('data/user_merchant0.csv')\n",
    "other_feature0 = pd.read_csv('data/other_feature0.csv')\n",
    "online_feature0 = pd.read_csv('data/online_feature0.csv')\n",
    "dataset0 = pd.merge(coupon0,merchant0,on='merchant_id',how='left')\n",
    "dataset0 = pd.merge(dataset0,user0,on='user_id',how='left')\n",
    "dataset0 = pd.merge(dataset0,user_merchant0,on=['user_id','merchant_id'],how='left')\n",
    "dataset0 = pd.merge(dataset0,other_feature0,on=['user_id','coupon_id','date_received'],how='left')\n",
    "dataset0 = pd.merge(dataset0,online_feature0,on='user_id',how='left')\n",
    "dataset0.drop_duplicates(inplace=True)\n",
    "\n",
    "dataset0.user_merchant_buy_total = dataset0.user_merchant_buy_total.replace(np.nan,0)\n",
    "dataset0.user_merchant_any = dataset0.user_merchant_any.replace(np.nan,0)\n",
    "dataset0.user_merchant_received = dataset0.user_merchant_received.replace(np.nan,0)\n",
    "# dataset0['is_weekend'] = dataset0.day_of_week.apply(lambda x:1 if x in (6,7) else 0)\n",
    "# weekday_dummies = pd.get_dummies(dataset0.day_of_week)\n",
    "# weekday_dummies.columns = ['weekday'+str(i+1) for i in range(weekday_dummies.shape[1])]\n",
    "# dataset0 = pd.concat([dataset0,weekday_dummies],axis=1)\n",
    "dataset0['label'] = dataset0.date.astype('str') + ':' +  dataset0.date_received.astype('str')\n",
    "dataset0.label = dataset0.label.apply(get_label)\n",
    "dataset0.drop(['merchant_id','day_of_week','date','date_received','coupon_id'],axis=1,inplace=True)\n",
    "dataset0 = dataset0.replace('null',np.nan)\n",
    "print('train-dataset0',dataset0.shape)\n",
    "dataset0.to_csv('data/dataset0.csv',index=None)\n"
   ]
  },
  {
   "cell_type": "code",
   "execution_count": null,
   "metadata": {
    "collapsed": true
   },
   "outputs": [],
   "source": []
  },
  {
   "cell_type": "code",
   "execution_count": null,
   "metadata": {
    "collapsed": true
   },
   "outputs": [],
   "source": []
  },
  {
   "cell_type": "code",
   "execution_count": null,
   "metadata": {
    "collapsed": true
   },
   "outputs": [],
   "source": []
  },
  {
   "cell_type": "code",
   "execution_count": null,
   "metadata": {
    "collapsed": true
   },
   "outputs": [],
   "source": []
  },
  {
   "cell_type": "code",
   "execution_count": null,
   "metadata": {
    "collapsed": true
   },
   "outputs": [],
   "source": []
  },
  {
   "cell_type": "code",
   "execution_count": null,
   "metadata": {
    "collapsed": true
   },
   "outputs": [],
   "source": []
  },
  {
   "cell_type": "code",
   "execution_count": null,
   "metadata": {
    "collapsed": true
   },
   "outputs": [],
   "source": []
  },
  {
   "cell_type": "code",
   "execution_count": null,
   "metadata": {
    "collapsed": true
   },
   "outputs": [],
   "source": []
  },
  {
   "cell_type": "code",
   "execution_count": null,
   "metadata": {
    "collapsed": true
   },
   "outputs": [],
   "source": []
  },
  {
   "cell_type": "code",
   "execution_count": null,
   "metadata": {
    "collapsed": true
   },
   "outputs": [],
   "source": []
  },
  {
   "cell_type": "code",
   "execution_count": null,
   "metadata": {
    "collapsed": true
   },
   "outputs": [],
   "source": []
  },
  {
   "cell_type": "code",
   "execution_count": null,
   "metadata": {
    "collapsed": true
   },
   "outputs": [],
   "source": []
  },
  {
   "cell_type": "code",
   "execution_count": null,
   "metadata": {
    "collapsed": true
   },
   "outputs": [],
   "source": []
  },
  {
   "cell_type": "code",
   "execution_count": null,
   "metadata": {
    "collapsed": true
   },
   "outputs": [],
   "source": []
  },
  {
   "cell_type": "code",
   "execution_count": null,
   "metadata": {
    "collapsed": true
   },
   "outputs": [],
   "source": []
  }
 ],
 "metadata": {
  "kernelspec": {
   "display_name": "Python 3",
   "language": "python",
   "name": "python3"
  },
  "language_info": {
   "codemirror_mode": {
    "name": "ipython",
    "version": 3
   },
   "file_extension": ".py",
   "mimetype": "text/x-python",
   "name": "python",
   "nbconvert_exporter": "python",
   "pygments_lexer": "ipython3",
   "version": "3.6.3"
  }
 },
 "nbformat": 4,
 "nbformat_minor": 2
}

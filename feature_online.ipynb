{
 "cells": [
  {
   "cell_type": "code",
   "execution_count": 3,
   "metadata": {
    "collapsed": true
   },
   "outputs": [],
   "source": [
    "import numpy as np\n",
    "import pandas as pd\n",
    "from datetime import date"
   ]
  },
  {
   "cell_type": "code",
   "execution_count": 4,
   "metadata": {},
   "outputs": [],
   "source": [
    "online_train = pd.read_csv('data/ccf_online_stage1_train.csv',header=0, dtype=str)\n",
    "online_train.columns = ['user_id','merchant_id','action','coupon_id','discount_rate','date_received','date']"
   ]
  },
  {
   "cell_type": "code",
   "execution_count": 5,
   "metadata": {},
   "outputs": [
    {
     "name": "stdout",
     "output_type": "stream",
     "text": [
      "online3 (5374089, 7)\n",
      "online2 (4986291, 7)\n",
      "online1 (4049782, 7)\n",
      "online0 (3931528, 7)\n"
     ]
    }
   ],
   "source": [
    "\n",
    "feature3 = online_train[((online_train.date>='20160415')&(online_train.date<='20160630'))|((pd.isnull(online_train.date))&(online_train.date_received>='20160415')&(online_train.date_received<='20160630'))]\n",
    "feature2 = online_train[(online_train.date>='20160301')&(online_train.date<='20160514')|((pd.isnull(online_train.date))&(online_train.date_received>='20160301')&(online_train.date_received<='20160514'))]\n",
    "feature1 = online_train[(online_train.date>='20160201')&(online_train.date<='20160413')|((pd.isnull(online_train.date))&(online_train.date_received>='20160201')&(online_train.date_received<='20160413'))]\n",
    "feature0 = online_train[((online_train.date>='20160101')&(online_train.date<='20160313'))|((pd.isnull(online_train.date))&(online_train.date_received>='20160101')&(online_train.date_received<='20160313'))]\n",
    "\n",
    "\"\"\"\n",
    "    t:线上成功消费次数\n",
    "    t1:线上获得消费券次数\n",
    "\"\"\"\n",
    "\n",
    "#for dataset3\n",
    "t = feature3[pd.notnull(feature3.date)][['user_id']].copy()\n",
    "t['online_total_consume'] = 1\n",
    "t['online_total_consume'] = t.groupby('user_id').agg('sum').reset_index()\n",
    "t.to_csv('data/online_feature3.csv',index=None)\n",
    "print('online3',feature3.shape)\n",
    "\n",
    "#for dataset2\n",
    "t = feature2[pd.notnull(feature2.date)][['user_id']].copy()\n",
    "t['online_total_consume'] = 1\n",
    "t['online_total_consume'] = t.groupby('user_id').agg('sum').reset_index()\n",
    "t.to_csv('data/online_feature2.csv',index=None)\n",
    "print('online2',feature2.shape)\n",
    "\n",
    "\n",
    "#for dataset1\n",
    "t = feature1[pd.notnull(feature1.date)][['user_id']].copy()\n",
    "t['online_total_consume'] = 1\n",
    "t['online_total_consume'] = t.groupby('user_id').agg('sum').reset_index()\n",
    "t.to_csv('data/online_feature1.csv',index=None)\n",
    "print('online1',feature1.shape)\n",
    "\n",
    "#for dataset0\n",
    "t = feature0[pd.notnull(feature0.date)][['user_id']].copy()\n",
    "t['online_total_consume'] = 1\n",
    "t['online_total_consume'] = t.groupby('user_id').agg('sum').reset_index()\n",
    "t.to_csv('data/online_feature0.csv',index=None)\n",
    "print('online0',feature0.shape)"
   ]
  },
  {
   "cell_type": "code",
   "execution_count": null,
   "metadata": {
    "collapsed": true
   },
   "outputs": [],
   "source": []
  },
  {
   "cell_type": "code",
   "execution_count": null,
   "metadata": {
    "collapsed": true
   },
   "outputs": [],
   "source": []
  },
  {
   "cell_type": "code",
   "execution_count": null,
   "metadata": {
    "collapsed": true
   },
   "outputs": [],
   "source": []
  },
  {
   "cell_type": "code",
   "execution_count": null,
   "metadata": {
    "collapsed": true
   },
   "outputs": [],
   "source": []
  },
  {
   "cell_type": "code",
   "execution_count": null,
   "metadata": {
    "collapsed": true
   },
   "outputs": [],
   "source": []
  }
 ],
 "metadata": {
  "kernelspec": {
   "display_name": "Python 3",
   "language": "python",
   "name": "python3"
  },
  "language_info": {
   "codemirror_mode": {
    "name": "ipython",
    "version": 3
   },
   "file_extension": ".py",
   "mimetype": "text/x-python",
   "name": "python",
   "nbconvert_exporter": "python",
   "pygments_lexer": "ipython3",
   "version": "3.6.3"
  }
 },
 "nbformat": 4,
 "nbformat_minor": 2
}
